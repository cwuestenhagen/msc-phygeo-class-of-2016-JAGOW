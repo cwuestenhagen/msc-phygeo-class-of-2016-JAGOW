{
 "cells": [
  {
   "cell_type": "code",
   "execution_count": 5,
   "metadata": {
    "collapsed": true
   },
   "outputs": [],
   "source": [
    "import time\n",
    "import random\n",
    "import statistics\n",
    "from scipy import stats\n",
    "system_time=[]\n",
    "amillion=list(range(1000000))\n",
    "\n",
    "\n"
   ]
  },
  {
   "cell_type": "code",
   "execution_count": 6,
   "metadata": {
    "collapsed": true
   },
   "outputs": [],
   "source": [
    "for i in range(1000000):\n",
    "    x=random.randint(1,1000000)\n",
    "    first=0\n",
    "    last=len(amillion)-1\n",
    "    hit=False\n",
    "    count=0\n",
    "    count_list=[]\n",
    "    start=time.time()\n",
    "    while first<=last and not hit:\n",
    "        count+=1\n",
    "        count_list.append(count)\n",
    "        midpoint=(first+last)//2\n",
    "        if amillion[midpoint]==x:\n",
    "              hit=True\n",
    "        else:\n",
    "            if x<amillion[midpoint]:\n",
    "                last=midpoint-1\n",
    "            else:\n",
    "                first=midpoint+1\n",
    "    stop=time.time()\n",
    "    system_time.append(stop-start)\n"
   ]
  },
  {
   "cell_type": "code",
   "execution_count": 12,
   "metadata": {},
   "outputs": [
    {
     "name": "stdout",
     "output_type": "stream",
     "text": [
      "1\n",
      "19\n",
      "10.0\n",
      "1.365203046798706e-05\n",
      "0.0\n",
      "0.015600204467773438\n"
     ]
    }
   ],
   "source": [
    "a=min(count_list)\n",
    "b=max(count_list)\n",
    "c=sum(count_list)/len(count_list)\n",
    "d=sum(system_time)/len(system_time)\n",
    "e=min(system_time)\n",
    "f=max(system_time)\n",
    "print(a)\n",
    "print(b)\n",
    "print(c)\n",
    "print(d)\n",
    "print(e)\n",
    "print(f)"
   ]
  }
 ],
 "metadata": {
  "kernelspec": {
   "display_name": "Python 3",
   "language": "python",
   "name": "python3"
  },
  "language_info": {
   "codemirror_mode": {
    "name": "ipython",
    "version": 3
   },
   "file_extension": ".py",
   "mimetype": "text/x-python",
   "name": "python",
   "nbconvert_exporter": "python",
   "pygments_lexer": "ipython3",
   "version": "3.6.3"
  }
 },
 "nbformat": 4,
 "nbformat_minor": 2
}
