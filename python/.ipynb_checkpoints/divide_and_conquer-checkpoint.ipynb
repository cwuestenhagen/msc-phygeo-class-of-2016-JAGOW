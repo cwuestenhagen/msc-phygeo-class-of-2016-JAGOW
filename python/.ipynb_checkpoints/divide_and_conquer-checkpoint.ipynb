{
 "cells": [
  {
   "cell_type": "code",
   "execution_count": null,
   "metadata": {
    "collapsed": true
   },
   "outputs": [],
   "source": [
    "def tear_phonebook(amillion, randnumb):\n",
    "    first=0\n",
    "    last=len(amillion)-1\n",
    "    hit=False\n",
    "    while first<=last and not hit:\n",
    "        midpoint=(first+last)//2\n",
    "        if amillion[midpoint]==randnumb:\n",
    "              found=True\n",
    "        else:\n",
    "            if randnumb<amillion[midpoint]:\n",
    "                last=midpoint-1\n",
    "            else:\n",
    "                first=midpoint+1\n",
    "    return(found)\n",
    "    \n",
    "import time\n",
    "import random\n",
    "system_time=[]\n",
    "for i in range(1000000):\n",
    "    x=random.randint(1,1000000)\n",
    "    start=time.time\n",
    "    tear_phonebook(amillion=alist,randnumb=x)\n",
    "    stop=time.time\n",
    "    system_time.append(stop-start)\n",
    "return(mean(system_time))\n"
   ]
  },
  {
   "cell_type": "code",
   "execution_count": null,
   "metadata": {
    "collapsed": true
   },
   "outputs": [],
   "source": [
    "import time\n",
    "import random\n",
    "system_time=[]\n",
    "\n",
    "for i in range(1000000):\n",
    "    x=random.randint(1,1000000)\n",
    "    start=time.time\n",
    "    tear_phonebook(amillion=alist,randnumb=x)\n",
    "    stop=time.time\n",
    "    system_time.append(stop-start)\n",
    "return(mean(system_time))\n",
    "\n",
    "\n",
    "\n",
    "\n",
    "\n",
    "\n",
    "\n",
    "\n",
    "\n",
    "\n",
    "\n",
    "\n",
    "\n"
   ]
  }
 ],
 "metadata": {
  "kernelspec": {
   "display_name": "Python 3",
   "language": "python",
   "name": "python3"
  },
  "language_info": {
   "codemirror_mode": {
    "name": "ipython",
    "version": 3
   },
   "file_extension": ".py",
   "mimetype": "text/x-python",
   "name": "python",
   "nbconvert_exporter": "python",
   "pygments_lexer": "ipython3",
   "version": "3.6.3"
  }
 },
 "nbformat": 4,
 "nbformat_minor": 2
}
