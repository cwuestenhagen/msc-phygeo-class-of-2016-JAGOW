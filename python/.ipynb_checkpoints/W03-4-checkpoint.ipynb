{
 "cells": [
  {
   "cell_type": "code",
   "execution_count": 9,
   "metadata": {
    "collapsed": true
   },
   "outputs": [],
   "source": []
  },
  {
   "cell_type": "code",
   "execution_count": 64,
   "metadata": {},
   "outputs": [],
   "source": [
    "##Quicksort after Wikipedia\n",
    "\n",
    "def quicksort (A, lo,hi):\n",
    "    if lo < hi:\n",
    "        p=partition(A,lo,hi)\n",
    "        quicksort(A, lo, p-1)##sort from lowest index to point of partition-1\n",
    "        quicksort(A, p+1,hi)##sort from point of partition+1 to highest index\n",
    "     \n",
    "    "
   ]
  },
  {
   "cell_type": "code",
   "execution_count": 132,
   "metadata": {},
   "outputs": [],
   "source": [
    "##partition adapted from pseudocode on wikipedia\n",
    "def partition (A,lo,hi):\n",
    "    pivot=A[hi]\n",
    "    i=lo-1\n",
    "    for j in range(lo,hi):\n",
    "        if A[j]<pivot:\n",
    "            i+=1\n",
    "            A[i],A[j]=A[j],A[i]\n",
    "        if j==0:\n",
    "            print(\"unsorted List:\",A)\n",
    "    if A[hi]<A[i+1]:\n",
    "        A[i+1], A[hi]=A[hi],A[i+1]\n",
    "    \n",
    "    return(i+1) \n",
    "   "
   ]
  },
  {
   "cell_type": "code",
   "execution_count": 131,
   "metadata": {},
   "outputs": [
    {
     "name": "stdout",
     "output_type": "stream",
     "text": [
      "[1, 2, 3, 4, 5, 6, 7, 8, 9] [8, 9, 11, 19, 21, 25, 31]\n"
     ]
    }
   ],
   "source": [
    "##define two lists\n",
    "List=[6,5,1,3,8,4,7,9,2]\n",
    "List2=[21,11,31,9,25,8,19]\n",
    "##it works fine with both lists\n",
    "quicksort(A=List, lo=0, hi=len(List)-1)\n",
    "quicksort(A=List2, lo=0, hi=len(List2)-1)\n",
    "#quicksort(A=List2, lo=0, hi=len(List2)-1)\n",
    "\n",
    "\n",
    "print(List, List2)\n",
    "        "
   ]
  },
  {
   "cell_type": "code",
   "execution_count": 134,
   "metadata": {},
   "outputs": [],
   "source": [
    "##define two lists\n",
    "List=[6,5,1,3,8,4,7,9,2]\n",
    "List2=[21,11,31,9,25,8,19]\n",
    "###a while loop version\n",
    "def partition (A,lo,hi):\n",
    "    pivot=A[hi]\n",
    "    i=lo#counter used to put elements in the right position \n",
    "    j=lo ##counter used to jump to the next index\n",
    "    while j<hi:##but only until we get to h-1\n",
    "        if j==0:\n",
    "            print(\"unsorted List:\",A)\n",
    "        if A[j]<=pivot:\n",
    "            A[i], A[j]=A[j],A[i]\n",
    "            i+=1##next element smaller than pivot needs to be at position A[i+1]\n",
    "        j+=1# if A[j]<pivot or not, j needs to be incremented to check the next element in the List\n",
    "    A[i],A[hi]=A[hi],A[i]#put pivot in the right position\n",
    "    return (i)\n",
    "    "
   ]
  },
  {
   "cell_type": "code",
   "execution_count": 135,
   "metadata": {},
   "outputs": [
    {
     "name": "stdout",
     "output_type": "stream",
     "text": [
      "unsorted List: [6, 5, 1, 3, 8, 4, 7, 9, 2]\n",
      "unsorted List: [21, 11, 31, 9, 25, 8, 19]\n",
      "unsorted List: [11, 9, 8, 19, 25, 31, 21]\n",
      "[1, 2, 3, 4, 5, 6, 7, 8, 9] [8, 9, 11, 19, 21, 25, 31]\n"
     ]
    }
   ],
   "source": [
    "##it also works fine with both lists\n",
    "quicksort(A=List, lo=0, hi=len(List)-1)\n",
    "quicksort(A=List2, lo=0, hi=len(List2)-1)\n",
    "\n",
    "print(List,List2)\n"
   ]
  }
 ],
 "metadata": {
  "kernelspec": {
   "display_name": "Python 3",
   "language": "python",
   "name": "python3"
  },
  "language_info": {
   "codemirror_mode": {
    "name": "ipython",
    "version": 3
   },
   "file_extension": ".py",
   "mimetype": "text/x-python",
   "name": "python",
   "nbconvert_exporter": "python",
   "pygments_lexer": "ipython3",
   "version": "3.6.3"
  }
 },
 "nbformat": 4,
 "nbformat_minor": 2
}
