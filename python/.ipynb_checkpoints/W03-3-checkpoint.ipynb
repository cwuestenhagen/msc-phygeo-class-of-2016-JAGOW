{
 "cells": [
  {
   "cell_type": "code",
   "execution_count": 1,
   "metadata": {},
   "outputs": [],
   "source": [
    "import random\n",
    "tst= random.sample(range(100000), 1000)\n"
   ]
  },
  {
   "cell_type": "code",
   "execution_count": 2,
   "metadata": {},
   "outputs": [],
   "source": [
    "## läuft-aber langsam\n",
    "for i in range(len(tst)):\n",
    "    for j in range(len(tst)-1):\n",
    "        if tst [j]> tst[j+1]:\n",
    "            tst[j], tst[j+1]=tst[j+1],tst[j]\n",
    "\n",
    "    \n",
    "    \n",
    "\n"
   ]
  },
  {
   "cell_type": "code",
   "execution_count": 6,
   "metadata": {
    "collapsed": true
   },
   "outputs": [],
   "source": [
    "def no_stack_overflow_solution (list):\n",
    "    for i in list:\n",
    "        for j in range(len(list)-1):\n",
    "            if list [j]> list[j+1]:\n",
    "                list[j], list[j+1]=list[j+1],list[j]\n",
    "    return(list)\n",
    "    "
   ]
  },
  {
   "cell_type": "code",
   "execution_count": 7,
   "metadata": {},
   "outputs": [],
   "source": [
    "#no_stack_overflow_solution(list=tst)"
   ]
  }
 ],
 "metadata": {
  "kernelspec": {
   "display_name": "Python 3",
   "language": "python",
   "name": "python3"
  },
  "language_info": {
   "codemirror_mode": {
    "name": "ipython",
    "version": 3
   },
   "file_extension": ".py",
   "mimetype": "text/x-python",
   "name": "python",
   "nbconvert_exporter": "python",
   "pygments_lexer": "ipython3",
   "version": "3.6.3"
  }
 },
 "nbformat": 4,
 "nbformat_minor": 2
}
