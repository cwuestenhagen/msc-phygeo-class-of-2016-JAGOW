{
 "cells": [
  {
   "cell_type": "code",
   "execution_count": 2,
   "metadata": {},
   "outputs": [
    {
     "data": {
      "text/html": [
       "<div>\n",
       "<style>\n",
       "    .dataframe thead tr:only-child th {\n",
       "        text-align: right;\n",
       "    }\n",
       "\n",
       "    .dataframe thead th {\n",
       "        text-align: left;\n",
       "    }\n",
       "\n",
       "    .dataframe tbody tr th {\n",
       "        vertical-align: top;\n",
       "    }\n",
       "</style>\n",
       "<table border=\"1\" class=\"dataframe\">\n",
       "  <thead>\n",
       "    <tr style=\"text-align: right;\">\n",
       "      <th></th>\n",
       "      <th>SEAS</th>\n",
       "      <th>YR</th>\n",
       "      <th>TOTAL</th>\n",
       "      <th>ANOM</th>\n",
       "    </tr>\n",
       "  </thead>\n",
       "  <tbody>\n",
       "    <tr>\n",
       "      <th>0</th>\n",
       "      <td>DJF</td>\n",
       "      <td>1950</td>\n",
       "      <td>24.72</td>\n",
       "      <td>-1.53</td>\n",
       "    </tr>\n",
       "    <tr>\n",
       "      <th>1</th>\n",
       "      <td>JFM</td>\n",
       "      <td>1950</td>\n",
       "      <td>25.17</td>\n",
       "      <td>-1.34</td>\n",
       "    </tr>\n",
       "    <tr>\n",
       "      <th>2</th>\n",
       "      <td>FMA</td>\n",
       "      <td>1950</td>\n",
       "      <td>25.75</td>\n",
       "      <td>-1.16</td>\n",
       "    </tr>\n",
       "    <tr>\n",
       "      <th>3</th>\n",
       "      <td>MAM</td>\n",
       "      <td>1950</td>\n",
       "      <td>26.12</td>\n",
       "      <td>-1.18</td>\n",
       "    </tr>\n",
       "    <tr>\n",
       "      <th>4</th>\n",
       "      <td>AMJ</td>\n",
       "      <td>1950</td>\n",
       "      <td>26.32</td>\n",
       "      <td>-1.07</td>\n",
       "    </tr>\n",
       "  </tbody>\n",
       "</table>\n",
       "</div>"
      ],
      "text/plain": [
       "  SEAS    YR  TOTAL  ANOM\n",
       "0  DJF  1950  24.72 -1.53\n",
       "1  JFM  1950  25.17 -1.34\n",
       "2  FMA  1950  25.75 -1.16\n",
       "3  MAM  1950  26.12 -1.18\n",
       "4  AMJ  1950  26.32 -1.07"
      ]
     },
     "execution_count": 2,
     "metadata": {},
     "output_type": "execute_result"
    }
   ],
   "source": [
    "import pandas as pd\n",
    "\n",
    "url = \"http://www.cpc.ncep.noaa.gov/data/indices/oni.ascii.txt\"\n",
    "\n",
    "# help(pd.read_fwf)\n",
    "oni = pd.read_fwf(url, widths = [5, 5, 7, 7])\n",
    "oni.head()\n"
   ]
  },
  {
   "cell_type": "code",
   "execution_count": 3,
   "metadata": {},
   "outputs": [
    {
     "name": "stdout",
     "output_type": "stream",
     "text": [
      "26.896531365313667\n"
     ]
    }
   ],
   "source": [
    " \n",
    "TOTAL= oni['TOTAL'].tolist()\n",
    "\n",
    "def longterm_mean (value):\n",
    "    print(sum(value)/float(len(value)))\n",
    "    \n",
    "    \n",
    "longterm_mean(value=TOTAL)"
   ]
  },
  {
   "cell_type": "code",
   "execution_count": 12,
   "metadata": {},
   "outputs": [
    {
     "name": "stdout",
     "output_type": "stream",
     "text": [
      "1972 2.09 OND\n",
      "1973 -2.03 NDJ\n"
     ]
    }
   ],
   "source": [
    "ANOM=oni['ANOM'].tolist()\n",
    "SEAS=oni['SEAS'].tolist()\n",
    "YR=oni['YR'].tolist()\n",
    "\n",
    "\n",
    "def first_very_strong (x,y,z):\n",
    "    for i in range(len(x)):\n",
    "        for j in range (len(x)):\n",
    "            if x[j]>=2:\n",
    "                break\n",
    "        if x[i]<=-2:\n",
    "            print (y[j], x[j], z[j])\n",
    "            print(y[i],x[i],z[i])\n",
    "            break\n",
    "  \n",
    "\n",
    "def first_very_strong (x,y,z):\n",
    "    for i in range(len(x)):\n",
    "        for j in range (len(x)):\n",
    "            if x[j]>=2:\n",
    "                break\n",
    "        if x[i]<=-2:\n",
    "            print (y[j], x[j], z[j])\n",
    "            print(y[i],x[i],z[i])\n",
    "            break\n",
    "  \n",
    "first_very_strong (x=ANOM, y=YR, z=SEAS)\n",
    "   \n",
    "    \n",
    "    \n",
    "    "
   ]
  },
  {
   "cell_type": "code",
   "execution_count": 34,
   "metadata": {},
   "outputs": [
    {
     "data": {
      "text/plain": [
       "{'moderate el nino': 51,\n",
       " 'moderate la nina': 59,\n",
       " 'strong el nino': 30,\n",
       " 'strong la nina': 23,\n",
       " 'very strong el nino': 16,\n",
       " 'very strong la nina': 1,\n",
       " 'weak el nino': 119,\n",
       " 'weak la nina': 135}"
      ]
     },
     "execution_count": 34,
     "metadata": {},
     "output_type": "execute_result"
    }
   ],
   "source": [
    "\n",
    "def dict_enso (enso):\n",
    "    weak_low=0\n",
    "    medium_low=0\n",
    "    strong_low=0\n",
    "    very_strong_low=0\n",
    "    weak=0\n",
    "    medium=0\n",
    "    strong=0\n",
    "    very_strong=0\n",
    "    for j in range(len(enso)):\n",
    "        if enso[j]>-0.5:\n",
    "            continue\n",
    "        elif enso[j]>-1:\n",
    "          weak_low+=1\n",
    "        elif enso[j]>-1.5:\n",
    "          medium_low+=1\n",
    "        elif enso[j]>-2:\n",
    "          strong_low+=1\n",
    "        else:\n",
    "          very_strong_low+=1\n",
    "    for i in range(len(enso)):\n",
    "            if enso[i]<0.5:\n",
    "              continue\n",
    "            elif enso[i]<1:\n",
    "              weak+=1\n",
    "            elif enso[i]<1.5:\n",
    "              medium+=1\n",
    "            elif enso[i]<2:\n",
    "              strong+=1\n",
    "            else:\n",
    "             very_strong+=1\n",
    "    ENSO={\"weak el nino\":weak, \"moderate el nino\":medium, \"strong el nino\":strong, \"very strong el nino\":very_strong,\n",
    "     \"weak la nina\":weak_low, \"moderate la nina\":medium_low, \"strong la nina\":strong_low, \"very strong la nina\":very_strong_low}\n",
    "    return(ENSO)\n",
    "\n",
    "dict_enso(enso=ANOM)"
   ]
  }
 ],
 "metadata": {
  "kernelspec": {
   "display_name": "Python 3",
   "language": "python",
   "name": "python3"
  },
  "language_info": {
   "codemirror_mode": {
    "name": "ipython",
    "version": 3
   },
   "file_extension": ".py",
   "mimetype": "text/x-python",
   "name": "python",
   "nbconvert_exporter": "python",
   "pygments_lexer": "ipython3",
   "version": "3.6.3"
  }
 },
 "nbformat": 4,
 "nbformat_minor": 2
}
