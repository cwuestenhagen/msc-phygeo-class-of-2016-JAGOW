{
 "cells": [
  {
   "cell_type": "code",
   "execution_count": null,
   "metadata": {
    "collapsed": true
   },
   "outputs": [],
   "source": [
    "import time\n",
    "import random\n",
    "import statistics\n",
    "from scipy import stats\n",
    "system_time=[]\n",
    "amillion=list(range(1000000))\n",
    "\n",
    "for i in range(1000000):\n",
    "    x=random.randint(1,1000000)\n",
    "    first=0\n",
    "    last=len(amillion)-1\n",
    "    hit=False\n",
    "    start=time.time()\n",
    "    while first<=last and not hit:\n",
    "        midpoint=(first+last)//2\n",
    "        if amillion[midpoint]==x:\n",
    "              hit=True\n",
    "        else:\n",
    "            if x<amillion[midpoint]:\n",
    "                last=midpoint-1\n",
    "            else:\n",
    "                first=midpoint+1\n",
    "    stop=time.time()\n",
    "    system_time.append(stop-start)\n",
    "sum(system_time)/len(system_time)\n"
   ]
  }
 ],
 "metadata": {
  "kernelspec": {
   "display_name": "Python 3",
   "language": "python",
   "name": "python3"
  },
  "language_info": {
   "codemirror_mode": {
    "name": "ipython",
    "version": 3
   },
   "file_extension": ".py",
   "mimetype": "text/x-python",
   "name": "python",
   "nbconvert_exporter": "python",
   "pygments_lexer": "ipython3",
   "version": "3.6.3"
  }
 },
 "nbformat": 4,
 "nbformat_minor": 2
}
