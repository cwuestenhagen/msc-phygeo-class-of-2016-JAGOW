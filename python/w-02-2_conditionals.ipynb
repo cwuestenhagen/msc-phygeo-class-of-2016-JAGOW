{
 "cells": [
  {
   "cell_type": "markdown",
   "metadata": {},
   "source": [
    "#### W02-2.1: Count the number of occurrences of each warm ENSO category \n",
    "\n",
    "Using the ONI data set from the previous worksheet, identify the number of months with \n",
    "\n",
    "* _weak_, \n",
    "* _medium_, \n",
    "* _strong_, \n",
    "* _and very strong_ \n",
    "\n",
    "warm ENSO conditions (i.e. El Ni&ntilde;o only). \n",
    "\n",
    "In order to fulfill the required tasks, you will need to\n",
    "\n",
    "* initialize counter variables for the different categories of warm ENSO stages,\n",
    "* write a `for` loop with embedded `if-elif` conditions (one for each stage), \n",
    "* and increment the stage-specific counter variables based on the anomaly thresholds given in <a href=\"https://oer.uni-marburg.de/goto.php?target=pg_5103_720&client_id=mriliasmooc\">W02-1: Loops</a>."
   ]
  },
  {
   "cell_type": "code",
   "execution_count": 3,
   "metadata": {},
   "outputs": [
    {
     "data": {
      "text/html": [
       "<div>\n",
       "<style>\n",
       "    .dataframe thead tr:only-child th {\n",
       "        text-align: right;\n",
       "    }\n",
       "\n",
       "    .dataframe thead th {\n",
       "        text-align: left;\n",
       "    }\n",
       "\n",
       "    .dataframe tbody tr th {\n",
       "        vertical-align: top;\n",
       "    }\n",
       "</style>\n",
       "<table border=\"1\" class=\"dataframe\">\n",
       "  <thead>\n",
       "    <tr style=\"text-align: right;\">\n",
       "      <th></th>\n",
       "      <th>SEAS</th>\n",
       "      <th>YR</th>\n",
       "      <th>TOTAL</th>\n",
       "      <th>ANOM</th>\n",
       "    </tr>\n",
       "  </thead>\n",
       "  <tbody>\n",
       "    <tr>\n",
       "      <th>0</th>\n",
       "      <td>DJF</td>\n",
       "      <td>1950</td>\n",
       "      <td>24.72</td>\n",
       "      <td>-1.53</td>\n",
       "    </tr>\n",
       "    <tr>\n",
       "      <th>1</th>\n",
       "      <td>JFM</td>\n",
       "      <td>1950</td>\n",
       "      <td>25.17</td>\n",
       "      <td>-1.34</td>\n",
       "    </tr>\n",
       "    <tr>\n",
       "      <th>2</th>\n",
       "      <td>FMA</td>\n",
       "      <td>1950</td>\n",
       "      <td>25.75</td>\n",
       "      <td>-1.16</td>\n",
       "    </tr>\n",
       "    <tr>\n",
       "      <th>3</th>\n",
       "      <td>MAM</td>\n",
       "      <td>1950</td>\n",
       "      <td>26.12</td>\n",
       "      <td>-1.18</td>\n",
       "    </tr>\n",
       "    <tr>\n",
       "      <th>4</th>\n",
       "      <td>AMJ</td>\n",
       "      <td>1950</td>\n",
       "      <td>26.32</td>\n",
       "      <td>-1.07</td>\n",
       "    </tr>\n",
       "  </tbody>\n",
       "</table>\n",
       "</div>"
      ],
      "text/plain": [
       "  SEAS    YR  TOTAL  ANOM\n",
       "0  DJF  1950  24.72 -1.53\n",
       "1  JFM  1950  25.17 -1.34\n",
       "2  FMA  1950  25.75 -1.16\n",
       "3  MAM  1950  26.12 -1.18\n",
       "4  AMJ  1950  26.32 -1.07"
      ]
     },
     "execution_count": 3,
     "metadata": {},
     "output_type": "execute_result"
    }
   ],
   "source": [
    "import pandas as pd\n",
    "\n",
    "url = \"http://www.cpc.ncep.noaa.gov/data/indices/oni.ascii.txt\"\n",
    "\n",
    "# help(pd.read_fwf)\n",
    "oni = pd.read_fwf(url, widths = [5, 5, 7, 7])\n",
    "oni.head()"
   ]
  },
  {
   "cell_type": "code",
   "execution_count": 4,
   "metadata": {
    "collapsed": true
   },
   "outputs": [],
   "source": [
    "##create List of anomalies\n",
    "ANOM= oni['ANOM'].tolist()"
   ]
  },
  {
   "cell_type": "code",
   "execution_count": 6,
   "metadata": {},
   "outputs": [
    {
     "name": "stdout",
     "output_type": "stream",
     "text": [
      "119 out of 812 ONI anomaly records are weak, 51 are medium, 30 are strong and 16 are very strong warm el nino events\n"
     ]
    }
   ],
   "source": [
    "##create counters\n",
    "weak=0\n",
    "medium=0\n",
    "strong=0\n",
    "very_strong=0\n",
    "\n",
    "for i in range(len(ANOM)):\n",
    "        if ANOM[i]<0.5:\n",
    "            continue\n",
    "        elif ANOM[i]<1:\n",
    "          weak+=1\n",
    "        elif ANOM[i]<1.5:\n",
    "          medium+=1\n",
    "        elif ANOM[i]<2:\n",
    "          strong+=1\n",
    "        else:\n",
    "          very_strong+=1\n",
    "\n",
    "print(weak, \"out of 812 ONI anomaly records are weak,\", medium, \"are medium,\", strong, (\"are strong and\"),very_strong, \"are very strong warm el nino events\")"
   ]
  },
  {
   "cell_type": "markdown",
   "metadata": {},
   "source": [
    "In addition, please calculate the percentage of months characterized by at least _weak_ El Ni&ntilde;o conditions?"
   ]
  },
  {
   "cell_type": "code",
   "execution_count": 41,
   "metadata": {},
   "outputs": [
    {
     "name": "stdout",
     "output_type": "stream",
     "text": [
      "26.57 % of the recorded months are characterized by at least weak El Niño conditions\n"
     ]
    }
   ],
   "source": [
    "## Your solution goes here:\n",
    "per=( (weak+ medium+strong+very_strong)/len(ANOM))*100\n",
    "\n",
    "print(round(per,2), \"% of the recorded months are characterized by at least weak El Niño conditions\")"
   ]
  },
  {
   "cell_type": "markdown",
   "metadata": {},
   "source": [
    "<hr>\n",
    "\n",
    "#### W02-2.2: Do the same for cold ENSO events...\n",
    "\n",
    "...and put the stage-specific counter variables for both warm and cold ENSO stages together in a single dictionary using meaningful and clearly distinguishable keys (e.g. 'Weak El Nino', 'Moderate El Nino', ...,  'Weak La Nina', ...). If you feel a little insecure with creating `dict` objects, feel free to browse back to <a href=\"https://oer.uni-marburg.de/goto.php?target=pg_2625_720&client_id=mriliasmooc\">E01-3</a> and let yourself inspire by the code included therein.\n",
    "\n",
    "Oh, and remember that the stuff you created for answering the above task is still in the Jupyter Notebook's environment, so there is no need carry out the whole El Ni&ntilde;o processing anew."
   ]
  },
  {
   "cell_type": "code",
   "execution_count": 7,
   "metadata": {},
   "outputs": [
    {
     "name": "stdout",
     "output_type": "stream",
     "text": [
      "135 out of 812 ONI anomaly records are weak, 59 are medium, 23 are strong and 1 are strong cold el nino events\n",
      "26.81 % of the recorded months are characterized by at least weak la Niña conditions\n"
     ]
    },
    {
     "data": {
      "text/plain": [
       "{'moderate el nino': 51,\n",
       " 'moderate la nina': 59,\n",
       " 'strong el nino': 30,\n",
       " 'strong la nina': 23,\n",
       " 'very strong el nino': 16,\n",
       " 'very strong la nina': 1,\n",
       " 'weak el nino': 119,\n",
       " 'weak la nina': 135}"
      ]
     },
     "execution_count": 7,
     "metadata": {},
     "output_type": "execute_result"
    }
   ],
   "source": [
    "## Your solution goes here:\n",
    "weak_low=0\n",
    "medium_low=0\n",
    "strong_low=0\n",
    "very_strong_low=0\n",
    "\n",
    "for i in range(len(ANOM)):\n",
    "        if ANOM[i]>-0.5:\n",
    "            continue\n",
    "        elif ANOM[i]>-1:\n",
    "          weak_low+=1\n",
    "        elif ANOM[i]>-1.5:\n",
    "          medium_low+=1\n",
    "        elif ANOM[i]>-2:\n",
    "          strong_low+=1\n",
    "        else:\n",
    "          very_strong_low+=1\n",
    "        \n",
    "print(weak_low, \"out of 812 ONI anomaly records are weak,\", medium_low, \n",
    "        \"are medium,\", strong_low, (\"are strong and\"),very_strong_low, \"are strong cold el nino events\")\n",
    "\n",
    "per_low=( (weak_low+ medium_low+strong_low+very_strong_low)/len(ANOM))*100\n",
    "\n",
    "print(round(per_low,2), \"% of the recorded months are characterized by at least weak la Niña conditions\")\n",
    "ENSO={\"weak el nino\":weak, \"moderate el nino\":medium, \"strong el nino\":strong, \"very strong el nino\":very_strong,\n",
    "     \"weak la nina\":weak_low, \"moderate la nina\":medium_low, \"strong la nina\":strong_low, \"very strong la nina\":very_strong_low}\n",
    "ENSO\n",
    "\n",
    "\n"
   ]
  }
 ],
 "metadata": {
  "kernelspec": {
   "display_name": "Python 3",
   "language": "python",
   "name": "python3"
  },
  "language_info": {
   "codemirror_mode": {
    "name": "ipython",
    "version": 3
   },
   "file_extension": ".py",
   "mimetype": "text/x-python",
   "name": "python",
   "nbconvert_exporter": "python",
   "pygments_lexer": "ipython3",
   "version": "3.6.3"
  }
 },
 "nbformat": 4,
 "nbformat_minor": 2
}
